{
  "nbformat": 4,
  "nbformat_minor": 0,
  "metadata": {
    "colab": {
      "provenance": []
    },
    "kernelspec": {
      "name": "python3",
      "display_name": "Python 3"
    },
    "language_info": {
      "name": "python"
    }
  },
  "cells": [
    {
      "cell_type": "code",
      "execution_count": 2,
      "metadata": {
        "colab": {
          "base_uri": "https://localhost:8080/",
          "height": 1000
        },
        "id": "f71O_yhZ80VV",
        "outputId": "9d34a177-fbc6-4ef8-b6ef-526d61ec552b"
      },
      "outputs": [
        {
          "output_type": "stream",
          "name": "stdout",
          "text": [
            "Columns: ['ชื่อ', 'ระยะเวลา', 'ข้อความรีวิว']\n",
            "\n",
            "Label distribution before adjustment:\n",
            "label\n",
            "positive    128\n",
            "neutral      21\n",
            "negative      1\n",
            "Name: count, dtype: int64\n",
            "\n",
            "Label distribution after merging:\n",
            "label\n",
            "positive    128\n",
            "neutral      22\n",
            "Name: count, dtype: int64\n",
            "\n",
            "=== SVM Performance ===\n",
            "              precision    recall  f1-score   support\n",
            "\n",
            "     neutral       0.00      0.00      0.00         4\n",
            "    positive       0.87      1.00      0.93        26\n",
            "\n",
            "    accuracy                           0.87        30\n",
            "   macro avg       0.43      0.50      0.46        30\n",
            "weighted avg       0.75      0.87      0.80        30\n",
            "\n",
            "Confusion Matrix:\n",
            "[[ 0  4]\n",
            " [ 0 26]]\n",
            "\n",
            "SVM Accuracy: 0.8667\n"
          ]
        },
        {
          "output_type": "stream",
          "name": "stderr",
          "text": [
            "/usr/local/lib/python3.12/dist-packages/sklearn/metrics/_classification.py:1565: UndefinedMetricWarning: Precision is ill-defined and being set to 0.0 in labels with no predicted samples. Use `zero_division` parameter to control this behavior.\n",
            "  _warn_prf(average, modifier, f\"{metric.capitalize()} is\", len(result))\n",
            "/usr/local/lib/python3.12/dist-packages/sklearn/metrics/_classification.py:1565: UndefinedMetricWarning: Precision is ill-defined and being set to 0.0 in labels with no predicted samples. Use `zero_division` parameter to control this behavior.\n",
            "  _warn_prf(average, modifier, f\"{metric.capitalize()} is\", len(result))\n",
            "/usr/local/lib/python3.12/dist-packages/sklearn/metrics/_classification.py:1565: UndefinedMetricWarning: Precision is ill-defined and being set to 0.0 in labels with no predicted samples. Use `zero_division` parameter to control this behavior.\n",
            "  _warn_prf(average, modifier, f\"{metric.capitalize()} is\", len(result))\n"
          ]
        },
        {
          "output_type": "display_data",
          "data": {
            "text/plain": [
              "<Figure size 500x400 with 2 Axes>"
            ],
            "image/png": "[encoded data removed]"
          },
          "metadata": {}
        },
        {
          "output_type": "stream",
          "name": "stdout",
          "text": [
            "\n",
            "Saved predictions to: /content/ReviewKruaBanPaBoon_SVM_results.csv\n"
          ]
        }
      ],
      "source": [
        "# =======================================\n",
        "#  STEP 1: Import libraries\n",
        "# =======================================\n",
        "import pandas as pd\n",
        "from sklearn.feature_extraction.text import TfidfVectorizer\n",
        "from sklearn.svm import LinearSVC\n",
        "from sklearn.model_selection import train_test_split\n",
        "from sklearn.pipeline import make_pipeline\n",
        "from sklearn.metrics import classification_report, confusion_matrix, accuracy_score\n",
        "import matplotlib.pyplot as plt\n",
        "import seaborn as sns\n",
        "\n",
        "# =======================================\n",
        "#  STEP 2: Load CSV file\n",
        "# =======================================\n",
        "path = \"/content/ReviewKruaBanPaBoon.csv\"  # <- แก้ path ถ้าไฟล์อยู่ที่อื่น\n",
        "df = pd.read_csv(path, encoding=\"utf-8\", dtype=str, engine=\"python\").fillna(\"\")\n",
        "print(\"Columns:\", list(df.columns))\n",
        "df.head()\n",
        "\n",
        "# =======================================\n",
        "#  STEP 3: Weak labeling (ใช้คำบวก/ลบ)\n",
        "# =======================================\n",
        "positive_words = [\"อร่อย\",\"ดีมาก\",\"ดี\",\"ชอบ\",\"อร่อยมาก\",\"แนะนำ\",\"อร่อยสุด\",\"สด\",\"ถูกใจ\",\"ประทับใจ\",\"เด็ด\",\"คุ้ม\",\"ถูก\"]\n",
        "negative_words = [\"ไม่อร่อย\",\"แย่\",\"แพง\",\"ไม่ดี\",\"เสียใจ\",\"ผิดหวัง\",\"บริการแย่\",\"รสจืด\",\"ห่วย\",\"ไม่โอเค\",\"ไม่ประทับใจ\",\"สกปรก\",\"เก่า\"]\n",
        "\n",
        "def weak_label(text):\n",
        "    t = str(text).lower()\n",
        "    pos = any(w in t for w in positive_words)\n",
        "    neg = any(w in t for w in negative_words)\n",
        "    if pos and not neg:\n",
        "        return \"positive\"\n",
        "    elif neg and not pos:\n",
        "        return \"negative\"\n",
        "    else:\n",
        "        return \"neutral\"\n",
        "\n",
        "source_col = \"ข้อความรีวิว\"\n",
        "df[\"label\"] = df[source_col].apply(weak_label)\n",
        "print(\"\\nLabel distribution before adjustment:\")\n",
        "print(df[\"label\"].value_counts())\n",
        "\n",
        "# =======================================\n",
        "#  STEP 4: Combine rare classes\n",
        "# =======================================\n",
        "# รวม negative เข้ากับ neutral เพราะ negative มีแค่ 1 ตัว\n",
        "df[\"label\"] = df[\"label\"].replace(\"negative\", \"neutral\")\n",
        "print(\"\\nLabel distribution after merging:\")\n",
        "print(df[\"label\"].value_counts())\n",
        "\n",
        "# =======================================\n",
        "#  STEP 5: Split train/test\n",
        "# =======================================\n",
        "X_train, X_test, y_train, y_test = train_test_split(\n",
        "    df[source_col], df[\"label\"], test_size=0.2, random_state=42, stratify=df[\"label\"]\n",
        ")\n",
        "\n",
        "# =======================================\n",
        "#  STEP 6: Prepare TF-IDF + SVM model\n",
        "# =======================================\n",
        "vectorizer = TfidfVectorizer(analyzer=\"char_wb\", ngram_range=(1,4), max_features=20000)\n",
        "svm_pipeline = make_pipeline(vectorizer, LinearSVC())\n",
        "\n",
        "# เทรนโมเดล\n",
        "svm_pipeline.fit(X_train, y_train)\n",
        "\n",
        "# =======================================\n",
        "#  STEP 7: Evaluate model\n",
        "# =======================================\n",
        "svm_preds = svm_pipeline.predict(X_test)\n",
        "\n",
        "print(\"\\n=== SVM Performance ===\")\n",
        "print(classification_report(y_test, svm_preds))\n",
        "print(\"Confusion Matrix:\")\n",
        "print(confusion_matrix(y_test, svm_preds))\n",
        "\n",
        "acc_svm = accuracy_score(y_test, svm_preds)\n",
        "print(f\"\\nSVM Accuracy: {acc_svm:.4f}\")\n",
        "\n",
        "# =======================================\n",
        "#  STEP 8: Visualize confusion matrix\n",
        "# =======================================\n",
        "plt.figure(figsize=(5,4))\n",
        "sns.heatmap(confusion_matrix(y_test, svm_preds), annot=True, fmt=\"d\", cmap=\"Blues\",\n",
        "            xticklabels=svm_pipeline.classes_, yticklabels=svm_pipeline.classes_)\n",
        "plt.title(\"SVM Confusion Matrix\")\n",
        "plt.xlabel(\"Predicted\")\n",
        "plt.ylabel(\"True\")\n",
        "plt.show()\n",
        "\n",
        "# =======================================\n",
        "#  STEP 9: Save predictions\n",
        "# =======================================\n",
        "df_test = pd.DataFrame({\n",
        "    \"ข้อความรีวิว\": X_test,\n",
        "    \"True_Label\": y_test,\n",
        "    \"SVM_Predict\": svm_preds\n",
        "})\n",
        "out_path = \"/content/ReviewKruaBanPaBoon_SVM_results.csv\"\n",
        "df_test.to_csv(out_path, index=False, encoding=\"utf-8-sig\")\n",
        "print(\"\\nSaved predictions to:\", out_path)"
      ]
    }
  ]
}